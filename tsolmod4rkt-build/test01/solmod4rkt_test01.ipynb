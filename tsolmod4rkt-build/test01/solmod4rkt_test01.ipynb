{
 "cells": [
  {
   "cell_type": "markdown",
   "id": "9ee5602c-69f5-4e7d-93ae-8f754078bd4c",
   "metadata": {},
   "source": [
    "---\n",
    " Solmod4rkt Test #1 as notebook, see file \n",
    "---"
   ]
  },
  {
   "cell_type": "code",
   "execution_count": 1,
   "id": "574daa43-e5b4-4d84-93a2-9ccaf6bff74c",
   "metadata": {},
   "outputs": [
    {
     "name": "stdout",
     "output_type": "stream",
     "text": [
      "[2024-02-05 19:47:11.044] [gems3k] [info] Home directory is /home/kulik\n"
     ]
    }
   ],
   "source": [
    "import math\n",
    "from solmod4rkt import *"
   ]
  },
  {
   "cell_type": "code",
   "execution_count": 2,
   "id": "16bce7cc-28bb-4b5d-aa7b-d919f3b4957a",
   "metadata": {},
   "outputs": [],
   "source": [
    "# Initialize SolModFactory from the GEMS3K file set\n",
    "task_data_file_name = \"Thermo-time-in/series1-dat.lst\"\n",
    "task = SolModFactory(task_data_file_name)"
   ]
  },
  {
   "cell_type": "code",
   "execution_count": 3,
   "id": "6371ad4d-93f5-4650-9c8d-60057fb8cd0b",
   "metadata": {},
   "outputs": [
    {
     "name": "stdout",
     "output_type": "stream",
     "text": [
      "Task: Thermo-time-in/series1-dat.lst\n",
      " T(K): 773.15 P(bar): 1000.0 N(PhSolutions): 3\n",
      "PhSolNames: ['aq_gen', 'Alkali feldspar', 'Plagioclase']\n"
     ]
    }
   ],
   "source": [
    "print(\"Task:\", task_data_file_name)\n",
    "print(\" T(K): {} P(bar): {} N(PhSolutions): {}\".format( task.Get_Temperature(), task.Get_Pressure(), task.Get_SolPhasesNumber()))\n",
    "print(\"PhSolNames:\", task.Get_SolPhasesNames())"
   ]
  },
  {
   "cell_type": "code",
   "execution_count": 4,
   "id": "bbcd59ef-08ff-49ef-b076-5c8c1611aa68",
   "metadata": {},
   "outputs": [
    {
     "name": "stdout",
     "output_type": "stream",
     "text": [
      "Phase1: name: 'Alkali feldspar'; mixing/activity model type: 'TVanLaar'; model code: 'V'; N endmembers: 3\n"
     ]
    }
   ],
   "source": [
    "# Getting SolModEngine for a feldspar phase 1 by name\n",
    "phase1 = task.SolPhase(\"Alkali feldspar\");\n",
    "print(\"Phase1: name: '{}'; mixing/activity model type: '{}'; model code: '{}'; N endmembers: {}\".format(\n",
    "      phase1.Get_SolPhaseName(), phase1.Get_MixModelType(), phase1.Get_MixModelCode(), phase1.Get_SpeciesNumber()))"
   ]
  },
  {
   "cell_type": "code",
   "execution_count": 5,
   "id": "dbd00c63-bd2a-442a-84a7-6414848c0645",
   "metadata": {},
   "outputs": [],
   "source": [
    "# Setting composition of the first feldspar phase (in mole fractions)\n",
    "x1m = {'Albite': 0.20987, 'Anorthite': 1.7e-09, 'Sanidine': 0.79013 };\n",
    "phase1.SetMoleFractions(x1m)\n",
    "# Calculating activity coefficients of end members\n",
    "phase1.SolModActivityCoeffs()"
   ]
  },
  {
   "cell_type": "code",
   "execution_count": 6,
   "id": "42e81194-8eb3-4efe-ad33-b033b2ccf432",
   "metadata": {},
   "outputs": [
    {
     "name": "stdout",
     "output_type": "stream",
     "text": [
      "   'Albite': x= 0.20987; a= 0.95796\n",
      "   'Anorthite': x= 1.7e-09; a= 2.51563e-07\n",
      "   'Sanidine': x= 0.79013; a= 0.84647\n"
     ]
    }
   ],
   "source": [
    "# Printing input phase composition and species activities\n",
    "x_ph1 = phase1.GetMoleFractions()\n",
    "a_ph1 = phase1.GetlnActivities()\n",
    "for key in x_ph1:\n",
    "    print(\"   '{}': x= {:.6g}; a= {:.6g}\".format(key, x_ph1[key], math.exp(a_ph1[key])))"
   ]
  },
  {
   "cell_type": "code",
   "execution_count": 7,
   "id": "aebc215a-25c3-41de-b820-360ac874347e",
   "metadata": {},
   "outputs": [],
   "source": [
    "# Writing results to a text file\n",
    "phase1.to_text_file(\"solmod_act_coef.txt\", True)"
   ]
  },
  {
   "cell_type": "code",
   "execution_count": 8,
   "id": "184edd93-6f29-4dd0-a37b-9149a9e4dcaf",
   "metadata": {},
   "outputs": [
    {
     "name": "stdout",
     "output_type": "stream",
     "text": [
      "Calculated activity coefficients of endmembers:\n",
      "   'Albite': ln(gamma)= 1.51832; gamma= 4.56454\n",
      "   'Anorthite': ln(gamma)= 4.99707; gamma= 147.978\n",
      "   'Sanidine': ln(gamma)= 0.0688775; gamma= 1.0713\n"
     ]
    }
   ],
   "source": [
    "# Get activity coefficients and print them\n",
    "lnGamma1v = phase1.GetlnActivityCoeffs()\n",
    "print(\"Calculated activity coefficients of endmembers:\")\n",
    "for key, value in lnGamma1v.items():\n",
    "    print(\"   '{}': ln(gamma)= {:.6g}; gamma= {:.6g}\".format(key, value, math.exp(value)))"
   ]
  },
  {
   "cell_type": "code",
   "execution_count": 9,
   "id": "1c05bc35-9d7d-4875-bebf-14bf9626a18d",
   "metadata": {},
   "outputs": [
    {
     "name": "stdout",
     "output_type": "stream",
     "text": [
      "Phase2: name: 'Plagioclase'; mixing/activity model type: 'TVanLaar'; model code: 'V'; N endmembers: 3\n"
     ]
    }
   ],
   "source": [
    "# Getting SolModEngine for a feldspar phase 2 by index\n",
    "phase2 = task.Sol_Phase(2);\n",
    "print(\"Phase2: name: '{}'; mixing/activity model type: '{}'; model code: '{}'; N endmembers: {}\".format(\n",
    "      phase2.Get_SolPhaseName(), phase2.Get_MixModelType(), phase2.Get_MixModelCode(), phase2.Get_SpeciesNumber()))"
   ]
  },
  {
   "cell_type": "code",
   "execution_count": 10,
   "id": "269387ec-a2be-444a-8739-ff235889bcae",
   "metadata": {},
   "outputs": [
    {
     "name": "stdout",
     "output_type": "stream",
     "text": [
      "   {'Albite': 0.94371, 'Anorthite': 1.12e-07, 'Sanidine': 0.05629}\n"
     ]
    }
   ],
   "source": [
    "# Setting composition of the second feldspar phase (in mole fractions)\n",
    "x2m = {'Albite': 0.94371, 'Anorthite': 1.12e-07, 'Sanidine': 0.05629}\n",
    "phase2.SetMoleFractions(x2m)\n",
    "\n",
    "# Calculating activity coefficients of end members\n",
    "phase2.SolModActivityCoeffs()\n",
    "\n",
    "# Printing input phase 2 composition in dict style\n",
    "print(\"  \", phase2.GetMoleFractions())"
   ]
  },
  {
   "cell_type": "code",
   "execution_count": 11,
   "id": "7a8af6db-ecaf-4ab7-8741-9950584982ea",
   "metadata": {},
   "outputs": [
    {
     "name": "stdout",
     "output_type": "stream",
     "text": [
      "Calculated activities of endmembers: \n",
      "   'Albite': a= 0.95797\n",
      "   'Anorthite': a= 2.52766e-07\n",
      "   'Sanidine': a= 0.84646\n"
     ]
    }
   ],
   "source": [
    "# Printing output activities\n",
    "print(\"Calculated activities of endmembers: \")\n",
    "for key, value in phase2.GetlnActivities().items():\n",
    "    print(\"   '{}': a= {:.6g}\".format(key, math.exp(value)))"
   ]
  },
  {
   "cell_type": "code",
   "execution_count": 12,
   "id": "40463a5d-e9b5-4319-9686-6fe7ec136c60",
   "metadata": {},
   "outputs": [],
   "source": [
    "# Writing results to a text file\n",
    "phase2.to_text_file(\"solmod_act_coef.txt\", True)"
   ]
  },
  {
   "cell_type": "code",
   "execution_count": 13,
   "id": "4cc9b720-e634-4317-9f43-dc3b5ff1cbe3",
   "metadata": {},
   "outputs": [
    {
     "name": "stdout",
     "output_type": "stream",
     "text": [
      "Calculated activity coefficients of endmembers:\n",
      "   'Albite': ln(gamma)= 0.0149979; gamma= 1.01511\n",
      "   'Anorthite': ln(gamma)= 0.813966; gamma= 2.25684\n",
      "   'Sanidine': ln(gamma)= 2.71055; gamma= 15.0375\n"
     ]
    }
   ],
   "source": [
    "# Get activity coefficients and print them\n",
    "lnGamma2v = phase2.GetlnActivityCoeffs()\n",
    "print(\"Calculated activity coefficients of endmembers:\")\n",
    "for key, value in lnGamma2v.items():\n",
    "    print(\"   '{}': ln(gamma)= {:.6g}; gamma= {:.6g}\".format(key, value, math.exp(value)))"
   ]
  },
  {
   "cell_type": "code",
   "execution_count": 14,
   "id": "0af68a1c-4728-4889-bd34-e3a6341138c0",
   "metadata": {},
   "outputs": [
    {
     "name": "stdout",
     "output_type": "stream",
     "text": [
      "Ideal properties of mixing in phase2:\n",
      " {'Aid': -1392.6192190639092, 'CPid': 0.0, 'Gid': -1392.6192190639092, 'Hid': 0.0, 'Sid': 1.801227729501273, 'Uid': 0.0, 'Vid': 0.0}\n"
     ]
    }
   ],
   "source": [
    "map_ideal = phase2.SolModIdealProps()\n",
    "print(\"Ideal properties of mixing in phase2:\\n\", map_ideal)"
   ]
  },
  {
   "cell_type": "code",
   "execution_count": 15,
   "id": "503b5e5c-94cc-4ef5-9608-79c312d51725",
   "metadata": {},
   "outputs": [
    {
     "name": "stdout",
     "output_type": "stream",
     "text": [
      "Excess properties of mixing in phase2:\n",
      " {'Aex': 1050.2958319619695, 'CPex': 0.0, 'Gex': 1071.803392264774, 'Hex': 1595.3852132489387, 'Sex': 0.6772060026956798, 'Uex': 1573.8776529461343, 'Vex': 0.021507560302804516}\n"
     ]
    }
   ],
   "source": [
    "map_excess = phase2.SolModExcessProps()\n",
    "print(\"Excess properties of mixing in phase2:\\n\", map_excess)"
   ]
  },
  {
   "cell_type": "code",
   "execution_count": null,
   "id": "7554be87-e3ca-4f7c-950f-a28c03d688a6",
   "metadata": {},
   "outputs": [],
   "source": []
  }
 ],
 "metadata": {
  "kernelspec": {
   "display_name": "Python 3 (ipykernel)",
   "language": "python",
   "name": "python3"
  },
  "language_info": {
   "codemirror_mode": {
    "name": "ipython",
    "version": 3
   },
   "file_extension": ".py",
   "mimetype": "text/x-python",
   "name": "python",
   "nbconvert_exporter": "python",
   "pygments_lexer": "ipython3",
   "version": "3.10.12"
  }
 },
 "nbformat": 4,
 "nbformat_minor": 5
}
